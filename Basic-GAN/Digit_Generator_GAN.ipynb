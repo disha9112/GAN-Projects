{
  "nbformat": 4,
  "nbformat_minor": 0,
  "metadata": {
    "colab": {
      "provenance": [],
      "gpuType": "T4"
    },
    "kernelspec": {
      "name": "python3",
      "display_name": "Python 3"
    },
    "language_info": {
      "name": "python"
    },
    "accelerator": "GPU"
  },
  "cells": [
    {
      "cell_type": "markdown",
      "source": [
        "## Importing the Libraries"
      ],
      "metadata": {
        "id": "O3nKRK8SLE20"
      }
    },
    {
      "cell_type": "code",
      "source": [
        "# import the pytorch and debugger libraries\n",
        "import torch, pdb\n",
        "# dataloader allows us to build an iterable to hold our training data\n",
        "from torch.utils.data import DataLoader\n",
        "# nn helps in building DL architectures\n",
        "from torch import nn\n",
        "# computer vision related library\n",
        "# we can transform our data in different ways\n",
        "from torchvision import transforms\n",
        "from torchvision.datasets import MNIST\n",
        "# a grid of images is used during training to understand\n",
        "# how fake images are created by the generator, v/s the real imaages\n",
        "from torchvision.utils import make_grid\n",
        "# progress bar\n",
        "from tqdm.auto import tqdm\n",
        "import matplotlib.pyplot as plt"
      ],
      "metadata": {
        "id": "Am8xaAiYInAk"
      },
      "execution_count": null,
      "outputs": []
    },
    {
      "cell_type": "markdown",
      "source": [
        "## Displaying the Grid using a Visualization Function"
      ],
      "metadata": {
        "id": "X329YrmLLHlr"
      }
    },
    {
      "cell_type": "code",
      "source": [
        "# tensor -> multidimensionaal array\n",
        "# ch -> no. of channels, 1 represents grayscale (black and white)\n",
        "# num -> number of images displayed\n",
        "# this function will transform (128 * 784) tensor to (128 * 1 * 28 * 28) tensor\n",
        "def show(tensor, ch = 1, size = (28, 28), num = 16):\n",
        "  # detaches the variable from the computation of the gradients\n",
        "  # we only want what is contained in the variable, we don't wish to process gradients\n",
        "  # we get it back to the cpu\n",
        "  # then, view is used for reshaping\n",
        "  # tensor: 128 (batch size) x 784 (28 * 28 = 784)\n",
        "  data = tensor.detach().cpu().view(-1, ch, *size) # 128 * 1 * 28 * 28\n",
        "  # take num = 16 pictures and create a grid of 4 rows\n",
        "  # permute will change the order of the channels / dimensions\n",
        "  # 1 * 28 * 28 = 28 * 28 * 1 -> order of dimensions in pytorch and matplotlib are different\n",
        "  grid = make_grid(data[:num], nrow = 4).permute(1,2,0)\n",
        "  plt.imshow(grid)\n",
        "  plt.show()"
      ],
      "metadata": {
        "id": "xDcKSgEaLPLf"
      },
      "execution_count": null,
      "outputs": []
    },
    {
      "cell_type": "markdown",
      "source": [
        "## Setting up the Parameters and the Hyperparameters "
      ],
      "metadata": {
        "id": "h7qskC_9NSop"
      }
    },
    {
      "cell_type": "code",
      "source": [
        "epochs = 500\n",
        "# each step processes 1 batch\n",
        "curr_step = 0\n",
        "# at how many steps do we want to show the information\n",
        "info_step = 300\n",
        "mean_gen_loss = 0\n",
        "mean_disc_loss = 0\n",
        "\n",
        "# z vector of the latent space\n",
        "z_dim = 64\n",
        "# learning rate is the rate at which we push the parameters in the direction of\n",
        "# the negative gradient while the network learns\n",
        "lr = 0.00001\n",
        "# binary cross entropy is the loss function that we'll use\n",
        "# sigmoid function is applied, then BCE is calculated, to make it more numerically stable\n",
        "loss_func = nn.BCEWithLogitsLoss()\n",
        "\n",
        "# batch size\n",
        "bs = 128\n",
        "# device where we process the data using parallel processing\n",
        "device = 'cuda'\n",
        "\n",
        "# dataloader allows us to build an iterable to hold our training data\n",
        "# in every epoch, we will shuffle the data\n",
        "dataloader = DataLoader(MNIST('.', download = True, transform = transforms.ToTensor()), shuffle = True, batch_size = bs)\n",
        "\n",
        "# no. of steps in each batch = no. of MNIST dataset images / 128 = 60,000 / 128 = 468.75"
      ],
      "metadata": {
        "id": "Z-rQkFPvNTHU"
      },
      "execution_count": null,
      "outputs": []
    },
    {
      "cell_type": "markdown",
      "source": [
        "## Generator Class"
      ],
      "metadata": {
        "id": "cHLdTUC9Q7_F"
      }
    },
    {
      "cell_type": "code",
      "source": [
        "def genBlock(inp, out):\n",
        "  # sequential will help us set the no. of blocks / layers of elements\n",
        "  # that will be executed sequentially\n",
        "  # batch normalization is done on the values which are coming from the previous layer\n",
        "  # non-linearity (through relu) is needed to make the system identify things more\n",
        "  # complex than linearity\n",
        "  # inplace = true will modify the input directly without allocating extra resources\n",
        "  return nn.Sequential(\n",
        "      nn.Linear(inp, out),\n",
        "      nn.BatchNorm1d(out),\n",
        "      nn.ReLU(inplace = True)\n",
        "  )\n",
        "\n",
        "class Generator(nn.Module):\n",
        "  def __init__(self, z_dim = 64, i_dim = 784, h_dim = 128):\n",
        "    super().__init__()\n",
        "    self.gen = nn.Sequential(\n",
        "        genBlock(z_dim, h_dim), # size -> enters as 64, exits as 128\n",
        "        genBlock(h_dim, h_dim * 2), # size -> enters as 128, exits as 256 (trying to reach the size of MNIST images)\n",
        "        genBlock(h_dim * 2, h_dim * 4), # size -> enters as 256, exits as 512\n",
        "        genBlock(h_dim * 4, h_dim * 8), # size -> enters as 512, exits as 1024\n",
        "        nn.Linear(h_dim * 8, i_dim), # size -> enters as 1024, exits as 784\n",
        "        nn.Sigmoid(), # pixel values of the image must be between 0 and 1 (grayscale)\n",
        "    )\n",
        "\n",
        "  # forward is executed when we run the instance of the class\n",
        "  def forward(self, noise):\n",
        "    return self.gen(noise)\n",
        "\n",
        "# function to generate noise as many times as we request\n",
        "def gen_noise(number, z_dim):\n",
        "  # generate the noise randomly and then store it to the device\n",
        "  return torch.randn(number, z_dim).to(device)"
      ],
      "metadata": {
        "id": "HOYd0NWZQ91r"
      },
      "execution_count": null,
      "outputs": []
    },
    {
      "cell_type": "markdown",
      "source": [
        "## Discriminator Class"
      ],
      "metadata": {
        "id": "I6LcRjMyTJ4V"
      }
    },
    {
      "cell_type": "code",
      "source": [
        "def discBlock(inp, out):\n",
        "  # with relu, there is a risk of dying relu\n",
        "  # instead of getting a small negative value, we get values on a slope (slope = 0.2, here)\n",
        "  return nn.Sequential(\n",
        "      nn.Linear(inp, out),\n",
        "      nn.LeakyReLU(0.2)\n",
        "  )\n",
        "\n",
        "class Discriminator(nn.Module):\n",
        "  def __init__(self, i_dim = 784, h_dim = 256):\n",
        "    super().__init__()\n",
        "    self.disc = nn.Sequential(\n",
        "        # output has only 1 number, to tell us if the image is real or fake\n",
        "        discBlock(i_dim, h_dim * 4), # size -> enters as 784, exits as 1024\n",
        "        discBlock(h_dim * 4, h_dim * 2), # size -> enters as 1024, exits as 512\n",
        "        discBlock(h_dim * 2, h_dim), # size -> enters as 512, exits as 256\n",
        "        nn.Linear(h_dim, 1) # enters as 256, exits as 1\n",
        "    )\n",
        "\n",
        "  # forward is executed when we run the instance of the class\n",
        "  # returns the result of passing the image to the discriminator\n",
        "  def forward(self, image):\n",
        "    return self.disc(image)"
      ],
      "metadata": {
        "id": "P2WB_txMTMlo"
      },
      "execution_count": null,
      "outputs": []
    },
    {
      "cell_type": "markdown",
      "source": [
        "## Structuring the Optimizer"
      ],
      "metadata": {
        "id": "YKINcmPVUxba"
      }
    },
    {
      "cell_type": "code",
      "source": [
        "gen = Generator(z_dim).to(device)\n",
        "# adam optimizer\n",
        "gen_opt = torch.optim.Adam(gen.parameters(), lr = lr)\n",
        "disc = Discriminator().to(device)\n",
        "disc_opt = torch.optim.Adam(disc.parameters(), lr = lr)"
      ],
      "metadata": {
        "id": "bk2nDNZrU0wI"
      },
      "execution_count": null,
      "outputs": []
    },
    {
      "cell_type": "code",
      "source": [
        "gen"
      ],
      "metadata": {
        "colab": {
          "base_uri": "https://localhost:8080/"
        },
        "id": "8tzZqWQxVcJp",
        "outputId": "87172903-3aad-4aff-e970-b61fe22b615f"
      },
      "execution_count": null,
      "outputs": [
        {
          "output_type": "execute_result",
          "data": {
            "text/plain": [
              "Generator(\n",
              "  (gen): Sequential(\n",
              "    (0): Sequential(\n",
              "      (0): Linear(in_features=64, out_features=128, bias=True)\n",
              "      (1): BatchNorm1d(128, eps=1e-05, momentum=0.1, affine=True, track_running_stats=True)\n",
              "      (2): ReLU(inplace=True)\n",
              "    )\n",
              "    (1): Sequential(\n",
              "      (0): Linear(in_features=128, out_features=256, bias=True)\n",
              "      (1): BatchNorm1d(256, eps=1e-05, momentum=0.1, affine=True, track_running_stats=True)\n",
              "      (2): ReLU(inplace=True)\n",
              "    )\n",
              "    (2): Sequential(\n",
              "      (0): Linear(in_features=256, out_features=512, bias=True)\n",
              "      (1): BatchNorm1d(512, eps=1e-05, momentum=0.1, affine=True, track_running_stats=True)\n",
              "      (2): ReLU(inplace=True)\n",
              "    )\n",
              "    (3): Sequential(\n",
              "      (0): Linear(in_features=512, out_features=1024, bias=True)\n",
              "      (1): BatchNorm1d(1024, eps=1e-05, momentum=0.1, affine=True, track_running_stats=True)\n",
              "      (2): ReLU(inplace=True)\n",
              "    )\n",
              "    (4): Linear(in_features=1024, out_features=784, bias=True)\n",
              "    (5): Sigmoid()\n",
              "  )\n",
              ")"
            ]
          },
          "metadata": {},
          "execution_count": 90
        }
      ]
    },
    {
      "cell_type": "code",
      "source": [
        "disc"
      ],
      "metadata": {
        "colab": {
          "base_uri": "https://localhost:8080/"
        },
        "id": "Wai-Zj8lVsAf",
        "outputId": "bdb2949a-846c-4f34-ec35-f279ee9a7ca7"
      },
      "execution_count": null,
      "outputs": [
        {
          "output_type": "execute_result",
          "data": {
            "text/plain": [
              "Discriminator(\n",
              "  (disc): Sequential(\n",
              "    (0): Sequential(\n",
              "      (0): Linear(in_features=784, out_features=1024, bias=True)\n",
              "      (1): LeakyReLU(negative_slope=0.2)\n",
              "    )\n",
              "    (1): Sequential(\n",
              "      (0): Linear(in_features=1024, out_features=512, bias=True)\n",
              "      (1): LeakyReLU(negative_slope=0.2)\n",
              "    )\n",
              "    (2): Sequential(\n",
              "      (0): Linear(in_features=512, out_features=256, bias=True)\n",
              "      (1): LeakyReLU(negative_slope=0.2)\n",
              "    )\n",
              "    (3): Linear(in_features=256, out_features=1, bias=True)\n",
              "  )\n",
              ")"
            ]
          },
          "metadata": {},
          "execution_count": 91
        }
      ]
    },
    {
      "cell_type": "markdown",
      "source": [
        "## Working with Data Iterator"
      ],
      "metadata": {
        "id": "URJeuE04V6wc"
      }
    },
    {
      "cell_type": "code",
      "source": [
        "x, y = next(iter(dataloader))\n",
        "print(x.shape, y.shape)\n",
        "print(y[:10])\n",
        "\n",
        "# testing the visualization function\n",
        "noise = gen_noise(bs, z_dim)\n",
        "fake = gen(noise)\n",
        "show(fake)"
      ],
      "metadata": {
        "colab": {
          "base_uri": "https://localhost:8080/",
          "height": 470
        },
        "id": "Ezd_OWTsV4tO",
        "outputId": "1205c1e3-196b-4412-df78-0f1ae06e6118"
      },
      "execution_count": null,
      "outputs": [
        {
          "output_type": "stream",
          "name": "stdout",
          "text": [
            "torch.Size([128, 1, 28, 28]) torch.Size([128])\n",
            "tensor([5, 5, 3, 4, 1, 8, 2, 7, 7, 8])\n"
          ]
        },
        {
          "output_type": "display_data",
          "data": {
            "text/plain": [
              "<Figure size 640x480 with 1 Axes>"
            ],
            "image/png": "[encoded data removed]"
          },
          "metadata": {}
        }
      ]
    },
    {
      "cell_type": "markdown",
      "source": [
        "## Loss Functions"
      ],
      "metadata": {
        "id": "b_83ZZRjWlPI"
      }
    },
    {
      "cell_type": "code",
      "source": [
        "def calc_gen_loss(loss_func, gen, disc, number, z_dim):\n",
        "  # get the noise vectors\n",
        "  noise = gen_noise(number, z_dim)\n",
        "  # pass the vectors through the generator\n",
        "  fake = gen(noise)\n",
        "  # pass the fakes which were created by generator, to the discriminator, to get the predictions\n",
        "  pred = disc(fake)\n",
        "  # calculate generator loss\n",
        "  # create tensor with dimensionalities similar to the predictions, and fill it with 1s\n",
        "  targets = torch.ones_like(pred)\n",
        "  gen_loss = loss_func(pred, targets)\n",
        "  return gen_loss\n",
        "\n",
        "# disc returns both real and fake images\n",
        "def calc_disc_loss(loss_func, gen, disc, number, real, z_dim):\n",
        "  # get the result of working with the fake images, which are noise vectors\n",
        "  noise = gen_noise(number, z_dim)\n",
        "  # pass the vectors through the generator\n",
        "  fake = gen(noise)\n",
        "  # when pytorch backpropagates, we don't want to change parameters of the \n",
        "  # generator while optimizing the discriminator...this is why detach is used\n",
        "  disc_fake = disc(fake.detach())\n",
        "  # calculate discriminator loss\n",
        "  disc_fake_targets = torch.zeros_like(disc_fake)\n",
        "  disc_fake_loss = loss_func(disc_fake, disc_fake_targets)\n",
        "  disc_real = disc(real)\n",
        "  disc_real_targets = torch.ones_like(disc_real)\n",
        "  disc_real_loss = loss_func(disc_real, disc_real_targets)\n",
        "  # final loss\n",
        "  disc_loss = (disc_fake_loss + disc_real_loss) / 2\n",
        "  return disc_loss"
      ],
      "metadata": {
        "id": "pYhl38nKWm9j"
      },
      "execution_count": null,
      "outputs": []
    },
    {
      "cell_type": "markdown",
      "source": [
        "## Training Loop"
      ],
      "metadata": {
        "id": "icUm6GGoYidw"
      }
    },
    {
      "cell_type": "code",
      "source": [
        "# e1 epoch = 469 images\n",
        "# each steps processes 128 images = size of the batch (except the last step)\n",
        "for epoch in range(epochs):\n",
        "  for real, _ in tqdm(dataloader):\n",
        "    # discriminator\n",
        "    # set all gradients to 0 at the beginning of each step\n",
        "    disc_opt.zero_grad()\n",
        "    # get current batch size, which is the length of size of real images \n",
        "    cur_bs = len(real) # size of real-> 128 * 1 * 28 * 28\n",
        "    # reshape the real images to batch size\n",
        "    real = real.view(cur_bs, -1) # 128 * 784\n",
        "    real = real.to(device)\n",
        "    disc_loss = calc_disc_loss(loss_func, gen, disc, cur_bs, real, z_dim)\n",
        "    # backpropagation\n",
        "    # retain_graph is optional (used for memory access)\n",
        "    disc_loss.backward(retain_graph = True)\n",
        "    disc_opt.step()\n",
        "\n",
        "    # generator\n",
        "    gen_opt.zero_grad()\n",
        "    gen_loss = calc_gen_loss(loss_func, gen, disc, cur_bs, z_dim)\n",
        "    gen_loss.backward(retain_graph = True)\n",
        "    gen_opt.step()\n",
        "\n",
        "    # visualization and statistics\n",
        "    # item transforms the tensor value to a standalone number\n",
        "    mean_disc_loss = disc_loss.item() / info_step\n",
        "    mean_gen_loss += gen_loss.item() / info_step\n",
        "    \n",
        "    if curr_step % info_step == 0 and curr_step > 0:\n",
        "      fake_noise = gen_noise(cur_bs, z_dim)\n",
        "      fake = gen(fake_noise)\n",
        "      show(fake)\n",
        "      show(real)\n",
        "      print(f\"{epoch}: step {curr_step} / Gen loss: {mean_gen_loss} / Disc loss: {mean_disc_loss}\")\n",
        "      mean_gen_loss, mean_disc_loss = 0, 0\n",
        "    curr_step += 1"
      ],
      "metadata": {
        "id": "k_xYQlABYkAM"
      },
      "execution_count": null,
      "outputs": []
    }
  ]
}